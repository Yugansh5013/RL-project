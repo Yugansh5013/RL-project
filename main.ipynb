{
 "cells": [
  {
   "cell_type": "markdown",
   "metadata": {},
   "source": [
    "## Import all the important packeges"
   ]
  },
  {
   "cell_type": "code",
   "execution_count": 59,
   "metadata": {},
   "outputs": [],
   "source": [
    "import time\n",
    "from collections import deque, namedtuple\n",
    "import random\n",
    "import numpy as np\n",
    "import matplotlib.pyplot as plt\n",
    "import pandas as pd\n",
    "import tensorflow as tf\n",
    "from tensorflow.keras.models import Sequential\n",
    "from tensorflow.keras.layers import Dense,Input\n",
    "from tensorflow.keras.optimizers import Adam\n",
    "from sklearn.metrics import mean_squared_error as MSE\n",
    "import os\n",
    "import logging\n",
    "import gymnasium as gym\n",
    "from gymnasium.wrappers import RecordVideo\n",
    "from gymnasium.wrappers import RecordEpisodeStatistics\n"
   ]
  },
  {
   "cell_type": "markdown",
   "metadata": {},
   "source": [
    "# setting the hyperparameters"
   ]
  },
  {
   "cell_type": "code",
   "execution_count": 60,
   "metadata": {},
   "outputs": [],
   "source": [
    "memory_buffer=100_000\n",
    "batch_size=64\n",
    "gamma=0.99  #discount factor\n",
    "alpha=0.001 #learning rate\n",
    "\n"
   ]
  },
  {
   "cell_type": "markdown",
   "metadata": {},
   "source": [
    "# Environment Details\n",
    "\n",
    "## Action Space\n",
    "| Action | Description | Unit |\n",
    "|--------|-------------|------|\n",
    "| 0 | Apply -1 torque to the actuated joint | torque (N m) |\n",
    "| 1 | Apply 0 torque to the actuated joint | torque (N m) |\n",
    "| 2 | Apply 1 torque to the actuated joint | torque (N m) |\n",
    "\n",
    "## Observation Space\n",
    "| Index | Observation | Min | Max |\n",
    "|-------|-------------|-----|-----|\n",
    "| 0 | Cosine of theta1 | -1 | 1 |\n",
    "| 1 | Sine of theta1 | -1 | 1 |\n",
    "| 2 | Cosine of theta2 | -1 | 1 |\n",
    "| 3 | Sine of theta2 | -1 | 1 |\n",
    "| 4 | Angular velocity of theta1 | ~ -12.567 (-4 * pi) | ~ 12.567 (4 * pi) |\n",
    "| 5 | Angular velocity of theta2 | ~ -28.274 (-9 * pi) | ~ 28.274 (9 * pi) |\n",
    "\n",
    "### Angle Definitions\n",
    "- **theta1**: Angle of the first joint (0° = pointing directly downwards)\n",
    "- **theta2**: Angle relative to the first link (0° = same angle between links)\n",
    "\n",
    "Angular velocities are bounded at ±4π and ±9π rad/s for theta1 and theta2 respectively.\n",
    "A state of [1, 0, 1, 0, ..., ...] indicates both links pointing downwards.\n",
    "\n",
    "## Rewards\n",
    "- Goal: Reach target height in minimum steps\n",
    "- Regular step: -1 reward\n",
    "- Goal achieved: 0 reward and termination\n",
    "- Reward threshold: -100\n",
    "\n",
    "## Starting State\n",
    "All parameters (theta1, theta2, and angular velocities) are initialized uniformly between -0.1 and 0.1, resulting in both links pointing downwards with slight randomness.\n",
    "\n",
    "## Episode Termination Conditions\n",
    "1. **Success**: Free end reaches target height\n",
    "   - Condition: -cos(theta1) - cos(theta2 + theta1) > 1.0\n",
    "2. **Truncation**: Episode length exceeds 500 steps\n",
    "\n",
    "\n"
   ]
  },
  {
   "cell_type": "markdown",
   "metadata": {},
   "source": [
    "## Creating an enviornment"
   ]
  },
  {
   "cell_type": "code",
   "execution_count": 61,
   "metadata": {},
   "outputs": [
    {
     "name": "stderr",
     "output_type": "stream",
     "text": [
      "c:\\Users\\yugan\\AppData\\Local\\Programs\\Python\\Python310\\lib\\site-packages\\gymnasium\\wrappers\\rendering.py:416: UserWarning: \u001b[33mWARN: Unable to save last video! Did you call close()?\u001b[0m\n",
      "  logger.warn(\"Unable to save last video! Did you call close()?\")\n"
     ]
    }
   ],
   "source": [
    "env = gym.make(\"Acrobot-v1\", render_mode=\"rgb_array\")"
   ]
  },
  {
   "cell_type": "code",
   "execution_count": 62,
   "metadata": {},
   "outputs": [
    {
     "data": {
      "image/png": "[encoded data removed]",
      "text/plain": [
       "<Figure size 640x480 with 1 Axes>"
      ]
     },
     "metadata": {},
     "output_type": "display_data"
    }
   ],
   "source": [
    "#this is to render the initial position of the environment\n",
    "env.reset()\n",
    "state=env.reset()\n",
    "image=env.render()\n",
    "plt.imshow(image)\n",
    "plt.axis(\"off\")\n",
    "plt.show()"
   ]
  },
  {
   "cell_type": "code",
   "execution_count": 63,
   "metadata": {},
   "outputs": [
    {
     "name": "stderr",
     "output_type": "stream",
     "text": [
      "c:\\Users\\yugan\\AppData\\Local\\Programs\\Python\\Python310\\lib\\site-packages\\gymnasium\\wrappers\\rendering.py:283: UserWarning: \u001b[33mWARN: Overwriting existing videos at c:\\Users\\yugan\\OneDrive\\Documents\\python\\RL project\\video folder (try specifying a different `video_folder` for the `RecordVideo` wrapper if this is not desired)\u001b[0m\n",
      "  logger.warn(\n"
     ]
    }
   ],
   "source": [
    "#this is to render a video of the environment\n",
    "env = RecordVideo(env, video_folder='./video', episode_trigger=lambda x: x % 1 == 0)\n",
    "observation, info = env.reset()\n",
    "\n",
    "for _ in range(100):\n",
    "    action = env.action_space.sample()  # Take a random action\n",
    "    observation, reward, terminated, truncated, info = env.step(action)\n",
    "    \n",
    "    # Ensure rendering happens\n",
    "    env.render()\n",
    "    \n",
    "    if terminated or truncated:\n",
    "        break\n",
    "\n",
    "\n",
    "env.close()"
   ]
  },
  {
   "cell_type": "code",
   "execution_count": 64,
   "metadata": {},
   "outputs": [
    {
     "name": "stdout",
     "output_type": "stream",
     "text": [
      "[ 0.99763834  0.06868549  0.99758464  0.06946116 -0.23576216  0.30967954]\n",
      "-1.0\n",
      "False\n",
      "False\n",
      "{}\n",
      "(array([ 0.9956513 ,  0.09315822,  0.9990068 ,  0.04455731, -0.00371215,\n",
      "       -0.06892191], dtype=float32), {})\n"
     ]
    }
   ],
   "source": [
    "state=env.reset()\n",
    "action=2\n",
    "observation, reward, terminated, truncated, info = env.step(action)\n",
    "print(observation)\n",
    "print(reward)\n",
    "print(terminated)\n",
    "print(truncated)\n",
    "print(info)\n",
    "print(state)\n"
   ]
  },
  {
   "cell_type": "markdown",
   "metadata": {},
   "source": [
    "# Initlizing the q and target q network\n",
    "the structure of both the networks will be the same"
   ]
  },
  {
   "cell_type": "code",
   "execution_count": 65,
   "metadata": {},
   "outputs": [],
   "source": [
    "qnetwork=Sequential([\n",
    "    Input(shape=(6,)), #input layer consist of 6 observations\n",
    "    Dense(128, activation=\"relu\"), #hidden layer 1\n",
    "    Dense(128, activation=\"relu\"), #hidden layer 2\n",
    "    Dense(3, activation=\"linear\") # 3 is the number of actions\n",
    "])\n",
    "\n",
    "target_qnetwork=Sequential([\n",
    "    Input(shape=(6,)),\n",
    "    Dense(128, activation=\"relu\"),\n",
    "    Dense(128, activation=\"relu\"),\n",
    "    Dense(3, activation=\"linear\")\n",
    "])\n",
    "\n",
    "# Initlizing the optimizer\n",
    "optimizer=Adam(learning_rate=alpha)\n"
   ]
  },
  {
   "cell_type": "markdown",
   "metadata": {},
   "source": [
    "creating a named tuple called experienced"
   ]
  },
  {
   "cell_type": "code",
   "execution_count": 66,
   "metadata": {},
   "outputs": [],
   "source": [
    "experience=namedtuple(\"experience\",[\"state\",\"action\",\"reward\",\"next_state\",\"done\"])\n"
   ]
  },
  {
   "cell_type": "code",
   "execution_count": 67,
   "metadata": {},
   "outputs": [],
   "source": [
    "#defining the loss function\n",
    "def compute_loss(experiences,gamma,qnetwork,target_qnetwork):\n",
    "    states,actions,rewards,next_states,done_vals=experiences\n",
    "    max_qsa=tf.reduce_max(target_qnetwork(next_states),axis=1)\n",
    "    y_targets=rewards+gamma*max_qsa*(1-done_vals)\n",
    "    q_values=qnetwork(states)\n",
    "    actions=tf.cast(actions,tf.int32)\n",
    "    q_values=tf.gather_nd(q_values,tf.stack([tf.range(batch_size),actions],axis=1))\n",
    "    loss = tf.reduce_mean(tf.square(y_targets - q_values))\n",
    "    return loss\n",
    "\n",
    "\n"
   ]
  },
  {
   "cell_type": "code",
   "execution_count": 68,
   "metadata": {},
   "outputs": [],
   "source": [
    "#defining the function to actually train the model\n",
    "\n",
    "TAU=0.001 #soft update parameter\n",
    "\n",
    "@tf.function\n",
    "def train_step(experiences,gamma):\n",
    "    with tf.GradientTape() as tape:\n",
    "        loss=compute_loss(experiences,gamma,qnetwork,target_qnetwork)\n",
    "    model_gradients=tape.gradient(loss,qnetwork.trainable_variables)\n",
    "    optimizer.apply_gradients(zip(model_gradients,qnetwork.trainable_variables))\n",
    "    #updating the target q network\n",
    "    #target_qnetwork.set_weights(qnetwork.get_weights()) -- this is not optimal, this is also called hard update\n",
    "    #instead we will soft update the target q network\n",
    "    for target_weights, q_net_weights in zip(target_qnetwork.trainable_variables, qnetwork.trainable_variables):\n",
    "        target_weights.assign(TAU * q_net_weights + (1.0 - TAU) * target_weights)  #this means that the target network will be updated with a small step towards the q network\n",
    "    \n",
    "\n"
   ]
  },
  {
   "cell_type": "code",
   "execution_count": 69,
   "metadata": {},
   "outputs": [],
   "source": [
    "#defining the e-greedy policy\n",
    "epsilon=1.0\n",
    "E_MIN=0.01\n",
    "E_DECAY=0.995\n",
    "\n",
    "#function to choose the action\n",
    "def get_action(qvalues,epsilon=0):\n",
    "    if np.random.rand()<epsilon:\n",
    "        action=np.random.choice(np.arange(3))\n",
    "    else:\n",
    "        action=np.argmax(qvalues)\n",
    "    return action\n",
    "def get_new_eps(epsilon):\n",
    "    return max(E_MIN, E_DECAY*epsilon)\n",
    "    \n"
   ]
  },
  {
   "cell_type": "code",
   "execution_count": 70,
   "metadata": {},
   "outputs": [],
   "source": [
    "#utils for the coustom training loops\n",
    "def check_update_conditions(t, num_steps_upd, memory):\n",
    "    if (t + 1) % num_steps_upd == 0 and len(memory) > batch_size:\n",
    "        return True\n",
    "    else:\n",
    "        return False\n",
    "    \n",
    "def get_experiences(memory_buffer):\n",
    "    experiences = random.sample(memory_buffer, k=batch_size)\n",
    "    states = tf.convert_to_tensor(\n",
    "        np.vstack([np.squeeze(e.state) for e in experiences if e is not None]),\n",
    "        dtype=tf.float32\n",
    "    )\n",
    "    \n",
    "    actions = tf.convert_to_tensor(\n",
    "        np.array([e.action for e in experiences if e is not None]), \n",
    "        dtype=tf.int32\n",
    "    )\n",
    "    \n",
    "    rewards = tf.convert_to_tensor(\n",
    "        np.array([e.reward for e in experiences if e is not None]),\n",
    "        dtype=tf.float32\n",
    "    )\n",
    "    \n",
    "    next_states = tf.convert_to_tensor(\n",
    "        np.vstack([e.next_state for e in experiences if e is not None]),\n",
    "        dtype=tf.float32\n",
    "    )\n",
    "    \n",
    "    done_vals = tf.convert_to_tensor(\n",
    "        np.array([e.done for e in experiences if e is not None]),\n",
    "        dtype=tf.float32\n",
    "    )\n",
    "    return (states, actions, rewards, next_states, done_vals)"
   ]
  },
  {
   "cell_type": "markdown",
   "metadata": {},
   "source": [
    "# Application of Deep Q-Learning Algorithm with Experience Replay"
   ]
  },
  {
   "cell_type": "code",
   "execution_count": 71,
   "metadata": {},
   "outputs": [
    {
     "name": "stdout",
     "output_type": "stream",
     "text": [
      "Episode 0 : av_latest_points -500.0\n",
      "Episode 100 : av_latest_points -472.44\n",
      "Episode 200 : av_latest_points -364.54\n",
      "Episode 300 : av_latest_points -269.6\n",
      "Episode 400 : av_latest_points -262.27\n",
      "Episode 500 : av_latest_points -219.21\n",
      "Episode 600 : av_latest_points -176.9\n",
      "Episode 700 : av_latest_points -164.46\n",
      "Episode 800 : av_latest_points -163.86\n",
      "Episode 900 : av_latest_points -157.22\n",
      "Episode 1000 : av_latest_points -148.57\n",
      "Episode 1100 : av_latest_points -119.57\n",
      "Episode 1200 : av_latest_points -120.71\n",
      "Episode 1300 : av_latest_points -110.53\n",
      "Episode 1400 : av_latest_points -114.18\n",
      "Episode 1500 : av_latest_points -115.25\n",
      "Episode 1600 : av_latest_points -101.95\n",
      "Episode 1700 : av_latest_points -100.5\n",
      "Episode 1800 : av_latest_points -98.51\n",
      "Episode 1900 : av_latest_points -98.84\n",
      "Total Training Time: 44.83082496722539 minutes\n"
     ]
    }
   ],
   "source": [
    "start=time.time()\n",
    "\n",
    "\n",
    "env = RecordVideo(env, video_folder=\"acrobat-agent\", name_prefix=\"training\",\n",
    "                  episode_trigger=lambda x: x % 200 == 0)\n",
    "env = RecordEpisodeStatistics(env)\n",
    "\n",
    "# Creating a memory buffer\n",
    "memory=deque(maxlen=memory_buffer)\n",
    "num_episodes = 2000\n",
    "max_num_timesteps = 1000\n",
    "\n",
    "total_point_history = []\n",
    "\n",
    "num_p_av = 100\n",
    "\n",
    "target_qnetwork.set_weights(qnetwork.get_weights())\n",
    "\n",
    "for i in range(num_episodes):\n",
    "    state,_=env.reset()\n",
    "    total_points=0\n",
    "    for t in range(max_num_timesteps):\n",
    "        state_tensor = tf.convert_to_tensor(state[None, :], dtype=tf.float32)\n",
    "        qvalues=qnetwork(state_tensor)\n",
    "        action=get_action(qvalues[0],epsilon)\n",
    "        next_state,reward,done,truncated,info=env.step(action)\n",
    "        memory.append(experience(state,action,reward,next_state,done))\n",
    "        state=next_state\n",
    "        total_points+=reward\n",
    "        \n",
    "        if check_update_conditions(t,5, memory):\n",
    "            experiences=get_experiences(memory)\n",
    "            train_step(experiences,gamma)\n",
    "        \n",
    "        state=next_state.copy()\n",
    "\n",
    "        if done or truncated:\n",
    "            break\n",
    "    total_point_history.append(total_points)\n",
    "    av_latest_points=np.mean(total_point_history[-num_p_av:])\n",
    "    if i % 100 == 0:\n",
    "        print(f\"Episode {i} : av_latest_points {av_latest_points}\")\n",
    "    \n",
    "    if av_latest_points >= 195.0:\n",
    "        qnetwork.save(\"acrobat model.keras\")\n",
    "        print(f\"Target Reached! on episode {i} and model saved\")\n",
    "        break\n",
    "    \n",
    "    epsilon=get_new_eps(epsilon)\n",
    "    logging.info(f\"episode-{num_episodes}\", info[\"episode\"])\n",
    "env.close()\n",
    "total_time=time.time()-start\n",
    "print(f\"Total Training Time: {total_time/60} minutes\")\n",
    "\n",
    "\n",
    "\n",
    "    \n",
    "\n"
   ]
  },
  {
   "cell_type": "code",
   "execution_count": 72,
   "metadata": {},
   "outputs": [
    {
     "data": {
      "image/png": "[encoded data removed]",
      "text/plain": [
       "<Figure size 1000x500 with 1 Axes>"
      ]
     },
     "metadata": {},
     "output_type": "display_data"
    }
   ],
   "source": [
    "#plotting the training progress\n",
    "plt.figure(figsize=(10,5))\n",
    "plt.plot(total_point_history)\n",
    "plt.xlabel(\"Episode\")\n",
    "plt.ylabel(\"Total Points\")\n",
    "plt.title(\"Training Progress\")\n",
    "plt.show()\n"
   ]
  },
  {
   "cell_type": "code",
   "execution_count": 76,
   "metadata": {},
   "outputs": [
    {
     "name": "stdout",
     "output_type": "stream",
     "text": [
      "Evaluation episode finished with total reward: -75.0\n"
     ]
    },
    {
     "data": {
      "text/html": [
       "\n",
       "<video width=\"640\" height=\"480\" controls>\n",
       "  <source src=\"evaluation_videos\\rl-video-episode-0.mp4\" type=\"video/mp4\">\n",
       "Your browser does not support the video element.\n",
       "</video>\n"
      ],
      "text/plain": [
       "<IPython.core.display.HTML object>"
      ]
     },
     "execution_count": 76,
     "metadata": {},
     "output_type": "execute_result"
    }
   ],
   "source": [
    "# Load the trained model and run an episode\n",
    "model = qnetwork\n",
    "env = gym.make(\"Acrobot-v1\", render_mode=\"rgb_array\")\n",
    "env = RecordVideo(env, \"evaluation_videos\", episode_trigger=lambda x: True)\n",
    "\n",
    "state, info = env.reset()\n",
    "total_reward = 0\n",
    "done = False\n",
    "truncated = False\n",
    "\n",
    "while not (done or truncated):\n",
    "    # Get action from model (reshape state to match expected input shape)\n",
    "    state_tensor = tf.convert_to_tensor(state)\n",
    "    state_tensor = tf.expand_dims(state_tensor, 0)\n",
    "    action = np.argmax(model.predict(state_tensor, verbose=0))\n",
    "    \n",
    "    # Take step in environment\n",
    "    state, reward, done, truncated, info = env.step(action)\n",
    "    total_reward += reward\n",
    "    \n",
    "    env.render()\n",
    "\n",
    "print(f\"Evaluation episode finished with total reward: {total_reward}\")\n",
    "env.close()\n",
    "# Display the recorded video\n",
    "from IPython.display import HTML\n",
    "import glob\n",
    "import os\n",
    "\n",
    "# Get the latest video file\n",
    "video_files = glob.glob(\"evaluation_videos/*.mp4\")\n",
    "latest_video = max(video_files, key=os.path.getctime)\n",
    "\n",
    "# Create HTML video player\n",
    "video_html = f\"\"\"\n",
    "<video width=\"640\" height=\"480\" controls>\n",
    "  <source src=\"{latest_video}\" type=\"video/mp4\">\n",
    "Your browser does not support the video element.\n",
    "</video>\n",
    "\"\"\"\n",
    "\n",
    "HTML(video_html)\n"
   ]
  },
  {
   "cell_type": "code",
   "execution_count": 1,
   "metadata": {},
   "outputs": [
    {
     "ename": "NameError",
     "evalue": "name 'qnetwork' is not defined",
     "output_type": "error",
     "traceback": [
      "\u001b[1;31m---------------------------------------------------------------------------\u001b[0m",
      "\u001b[1;31mNameError\u001b[0m                                 Traceback (most recent call last)",
      "Cell \u001b[1;32mIn[1], line 1\u001b[0m\n\u001b[1;32m----> 1\u001b[0m \u001b[43mqnetwork\u001b[49m\u001b[38;5;241m.\u001b[39msave(\u001b[38;5;124m'\u001b[39m\u001b[38;5;124mmodle/acrobat-model.keras\u001b[39m\u001b[38;5;124m'\u001b[39m)\n",
      "\u001b[1;31mNameError\u001b[0m: name 'qnetwork' is not defined"
     ]
    }
   ],
   "source": [
    "qnetwork.save('modle/acrobat-model.keras')"
   ]
  }
 ],
 "metadata": {
  "kernelspec": {
   "display_name": "Python 3",
   "language": "python",
   "name": "python3"
  },
  "language_info": {
   "codemirror_mode": {
    "name": "ipython",
    "version": 3
   },
   "file_extension": ".py",
   "mimetype": "text/x-python",
   "name": "python",
   "nbconvert_exporter": "python",
   "pygments_lexer": "ipython3",
   "version": "3.10.0"
  }
 },
 "nbformat": 4,
 "nbformat_minor": 2
}
