{
 "cells": [
  {
   "cell_type": "markdown",
   "metadata": {},
   "source": [
    "## Import all the important packeges"
   ]
  },
  {
   "cell_type": "code",
   "execution_count": 28,
   "metadata": {},
   "outputs": [],
   "source": [
    "import time\n",
    "from collections import deque, namedtuple\n",
    "import random\n",
    "import numpy as np\n",
    "import matplotlib.pyplot as plt\n",
    "import pandas as pd\n",
    "import tensorflow as tf\n",
    "from tensorflow.keras.models import Sequential\n",
    "from tensorflow.keras.layers import Dense,Input\n",
    "from tensorflow.keras.optimizers import Adam\n",
    "from sklearn.metrics import mean_squared_error as MSE\n",
    "import os\n",
    "import logging\n",
    "import gymnasium as gym\n",
    "from gymnasium.wrappers import RecordVideo\n",
    "from gymnasium.wrappers import RecordEpisodeStatistics\n"
   ]
  },
  {
   "cell_type": "markdown",
   "metadata": {},
   "source": [
    "# setting the hyperparameters"
   ]
  },
  {
   "cell_type": "code",
   "execution_count": 29,
   "metadata": {},
   "outputs": [],
   "source": [
    "memory_buffer=100_000\n",
    "batch_size=64\n",
    "gamma=0.99  #discount factor\n",
    "alpha=0.001 #learning rate\n",
    "\n"
   ]
  },
  {
   "cell_type": "markdown",
   "metadata": {},
   "source": [
    "# Environment Details\n",
    "\n",
    "## Action Space\n",
    "| Action | Description | Unit |\n",
    "|--------|-------------|------|\n",
    "| 0 | Apply -1 torque to the actuated joint | torque (N m) |\n",
    "| 1 | Apply 0 torque to the actuated joint | torque (N m) |\n",
    "| 2 | Apply 1 torque to the actuated joint | torque (N m) |\n",
    "\n",
    "## Observation Space\n",
    "| Index | Observation | Min | Max |\n",
    "|-------|-------------|-----|-----|\n",
    "| 0 | Cosine of theta1 | -1 | 1 |\n",
    "| 1 | Sine of theta1 | -1 | 1 |\n",
    "| 2 | Cosine of theta2 | -1 | 1 |\n",
    "| 3 | Sine of theta2 | -1 | 1 |\n",
    "| 4 | Angular velocity of theta1 | ~ -12.567 (-4 * pi) | ~ 12.567 (4 * pi) |\n",
    "| 5 | Angular velocity of theta2 | ~ -28.274 (-9 * pi) | ~ 28.274 (9 * pi) |\n",
    "\n",
    "### Angle Definitions\n",
    "- **theta1**: Angle of the first joint (0° = pointing directly downwards)\n",
    "- **theta2**: Angle relative to the first link (0° = same angle between links)\n",
    "\n",
    "Angular velocities are bounded at ±4π and ±9π rad/s for theta1 and theta2 respectively.\n",
    "A state of [1, 0, 1, 0, ..., ...] indicates both links pointing downwards.\n",
    "\n",
    "## Rewards\n",
    "- Goal: Reach target height in minimum steps\n",
    "- Regular step: -1 reward\n",
    "- Goal achieved: 0 reward and termination\n",
    "- Reward threshold: -100\n",
    "\n",
    "## Starting State\n",
    "All parameters (theta1, theta2, and angular velocities) are initialized uniformly between -0.1 and 0.1, resulting in both links pointing downwards with slight randomness.\n",
    "\n",
    "## Episode Termination Conditions\n",
    "1. **Success**: Free end reaches target height\n",
    "   - Condition: -cos(theta1) - cos(theta2 + theta1) > 1.0\n",
    "2. **Truncation**: Episode length exceeds 500 steps\n",
    "\n",
    "\n"
   ]
  },
  {
   "cell_type": "markdown",
   "metadata": {},
   "source": [
    "## Creating an enviornment"
   ]
  },
  {
   "cell_type": "code",
   "execution_count": 30,
   "metadata": {},
   "outputs": [
    {
     "name": "stderr",
     "output_type": "stream",
     "text": [
      "c:\\Users\\yugan\\AppData\\Local\\Programs\\Python\\Python310\\lib\\site-packages\\gymnasium\\wrappers\\rendering.py:416: UserWarning: \u001b[33mWARN: Unable to save last video! Did you call close()?\u001b[0m\n",
      "  logger.warn(\"Unable to save last video! Did you call close()?\")\n"
     ]
    }
   ],
   "source": [
    "env = gym.make(\"Acrobot-v1\", render_mode=\"rgb_array\")"
   ]
  },
  {
   "cell_type": "code",
   "execution_count": 31,
   "metadata": {},
   "outputs": [
    {
     "data": {
      "image/png": "[encoded data removed]",
      "text/plain": [
       "<Figure size 640x480 with 1 Axes>"
      ]
     },
     "metadata": {},
     "output_type": "display_data"
    }
   ],
   "source": [
    "#this is to render the initial position of the environment\n",
    "env.reset()\n",
    "state=env.reset()\n",
    "image=env.render()\n",
    "plt.imshow(image)\n",
    "plt.axis(\"off\")\n",
    "plt.show()"
   ]
  },
  {
   "cell_type": "code",
   "execution_count": 32,
   "metadata": {},
   "outputs": [
    {
     "name": "stderr",
     "output_type": "stream",
     "text": [
      "c:\\Users\\yugan\\AppData\\Local\\Programs\\Python\\Python310\\lib\\site-packages\\gymnasium\\wrappers\\rendering.py:283: UserWarning: \u001b[33mWARN: Overwriting existing videos at c:\\Users\\yugan\\OneDrive\\Documents\\python\\RL project\\video folder (try specifying a different `video_folder` for the `RecordVideo` wrapper if this is not desired)\u001b[0m\n",
      "  logger.warn(\n"
     ]
    }
   ],
   "source": [
    "#this is to render a video of the environment\n",
    "env = RecordVideo(env, video_folder='./video', episode_trigger=lambda x: x % 1 == 0)\n",
    "observation, info = env.reset()\n",
    "\n",
    "for _ in range(100):\n",
    "    action = env.action_space.sample()  # Take a random action\n",
    "    observation, reward, terminated, truncated, info = env.step(action)\n",
    "    \n",
    "    # Ensure rendering happens\n",
    "    env.render()\n",
    "    \n",
    "    if terminated or truncated:\n",
    "        break\n",
    "\n",
    "\n",
    "env.close()"
   ]
  },
  {
   "cell_type": "code",
   "execution_count": 33,
   "metadata": {},
   "outputs": [
    {
     "name": "stdout",
     "output_type": "stream",
     "text": [
      "[ 0.9982241   0.05957125  0.9993851   0.03506178 -0.21309187  0.4617512 ]\n",
      "-1.0\n",
      "False\n",
      "False\n",
      "{}\n",
      "(array([ 0.99679434,  0.0800065 ,  0.9998612 , -0.01666118,  0.01431314,\n",
      "        0.04290292], dtype=float32), {})\n"
     ]
    }
   ],
   "source": [
    "state=env.reset()\n",
    "action=2\n",
    "observation, reward, terminated, truncated, info = env.step(action)\n",
    "print(observation)\n",
    "print(reward)\n",
    "print(terminated)\n",
    "print(truncated)\n",
    "print(info)\n",
    "print(state)\n"
   ]
  },
  {
   "cell_type": "markdown",
   "metadata": {},
   "source": [
    "# Initlizing the q and target q network\n",
    "the structure of both the networks will be the same"
   ]
  },
  {
   "cell_type": "code",
   "execution_count": 34,
   "metadata": {},
   "outputs": [],
   "source": [
    "qnetwork=Sequential([\n",
    "    Input(shape=(6,)), #input layer consist of 6 observations\n",
    "    Dense(128, activation=\"relu\"), #hidden layer 1\n",
    "    Dense(128, activation=\"relu\"), #hidden layer 2\n",
    "    Dense(3, activation=\"linear\") # 3 is the number of actions\n",
    "])\n",
    "\n",
    "target_qnetwork=Sequential([\n",
    "    Input(shape=(6,)),\n",
    "    Dense(128, activation=\"relu\"),\n",
    "    Dense(128, activation=\"relu\"),\n",
    "    Dense(3, activation=\"linear\")\n",
    "])\n",
    "\n",
    "# Initlizing the optimizer\n",
    "optimizer=Adam(learning_rate=alpha)\n"
   ]
  },
  {
   "cell_type": "markdown",
   "metadata": {},
   "source": [
    "creating a named tuple called experienced"
   ]
  },
  {
   "cell_type": "code",
   "execution_count": 35,
   "metadata": {},
   "outputs": [],
   "source": [
    "experience=namedtuple(\"experience\",[\"state\",\"action\",\"reward\",\"next_state\",\"done\"])\n"
   ]
  },
  {
   "cell_type": "code",
   "execution_count": 42,
   "metadata": {},
   "outputs": [],
   "source": [
    "#defining the loss function\n",
    "def compute_loss(experiences,gamma,qnetwork,target_qnetwork):\n",
    "    states,actions,rewards,next_states,done_vals=experiences\n",
    "    max_qsa=tf.reduce_max(target_qnetwork(next_states),axis=1)\n",
    "    y_targets=rewards+gamma*max_qsa*(1-done_vals)\n",
    "    q_values=qnetwork(states)\n",
    "    actions=tf.cast(actions,tf.int32)\n",
    "    q_values=tf.gather_nd(q_values,tf.stack([tf.range(batch_size),actions],axis=1))\n",
    "    loss = tf.reduce_mean(tf.square(y_targets - q_values))\n",
    "    return loss\n",
    "\n",
    "\n"
   ]
  },
  {
   "cell_type": "code",
   "execution_count": 47,
   "metadata": {},
   "outputs": [],
   "source": [
    "#defining the function to actually train the model\n",
    "\n",
    "TAU=0.001 #soft update parameter\n",
    "\n",
    "@tf.function\n",
    "def train_step(experiences,gamma):\n",
    "    with tf.GradientTape() as tape:\n",
    "        loss=compute_loss(experiences,gamma,qnetwork,target_qnetwork)\n",
    "    model_gradients=tape.gradient(loss,qnetwork.trainable_variables)\n",
    "    optimizer.apply_gradients(zip(model_gradients,qnetwork.trainable_variables))\n",
    "    #updating the target q network\n",
    "    #target_qnetwork.set_weights(qnetwork.get_weights()) -- this is not optimal, this is also called hard update\n",
    "    #instead we will soft update the target q network\n",
    "    target_qnetwork.set_weights(\n",
    "        tf.keras.utils.serialize_keras_object(qnetwork.get_weights())\n",
    "    )\n",
    "    for target_weights, q_net_weights in zip(target_qnetwork.trainable_variables, qnetwork.trainable_variables):\n",
    "        target_weights.assign(TAU * q_net_weights + (1.0 - TAU) * target_weights)  #this means that the target network will be updated with a small step towards the q network\n",
    "    \n",
    "\n"
   ]
  },
  {
   "cell_type": "code",
   "execution_count": 48,
   "metadata": {},
   "outputs": [],
   "source": [
    "#defining the e-greedy policy\n",
    "epsilon=1.0\n",
    "E_MIN=0.01\n",
    "E_DECAY=0.995\n",
    "\n",
    "#function to choose the action\n",
    "def get_action(qvalues,epsilon=0):\n",
    "    if np.random.rand()<epsilon:\n",
    "        action=np.random.choice(np.arange(3))\n",
    "    else:\n",
    "        action=np.argmax(qvalues)\n",
    "    return action\n",
    "def get_new_eps(epsilon):\n",
    "    return max(E_MIN, E_DECAY*epsilon)\n",
    "    \n"
   ]
  },
  {
   "cell_type": "code",
   "execution_count": 49,
   "metadata": {},
   "outputs": [],
   "source": [
    "#utils for the coustom training loops\n",
    "def check_update_conditions(t, num_steps_upd, memory):\n",
    "    if (t + 1) % num_steps_upd == 0 and len(memory) > batch_size:\n",
    "        return True\n",
    "    else:\n",
    "        return False\n",
    "    \n",
    "def get_experiences(memory_buffer):\n",
    "    experiences = random.sample(memory_buffer, k=batch_size)\n",
    "    states = tf.convert_to_tensor(np.array([e.state[0] for e in experiences if e is not None]),dtype=tf.float32)\n",
    "    actions = tf.convert_to_tensor(np.array([e.action for e in experiences if e is not None],dtype=np.int32), dtype=tf.float32)\n",
    "    rewards = tf.convert_to_tensor(np.array([e.reward for e in experiences if e is not None]), dtype=tf.float32)\n",
    "    next_states = tf.convert_to_tensor(np.array([e.next_state for e in experiences if e is not None]),dtype=tf.float32)\n",
    "    done_vals = tf.convert_to_tensor(np.array([e.done for e in experiences if e is not None]).astype(np.float32),dtype=tf.float32)\n",
    "    return (states, actions, rewards, next_states, done_vals)"
   ]
  },
  {
   "cell_type": "markdown",
   "metadata": {},
   "source": [
    "# Application of Deep Q-Learning Algorithm with Experience Replay"
   ]
  },
  {
   "cell_type": "code",
   "execution_count": 50,
   "metadata": {},
   "outputs": [
    {
     "name": "stderr",
     "output_type": "stream",
     "text": [
      "c:\\Users\\yugan\\AppData\\Local\\Programs\\Python\\Python310\\lib\\site-packages\\gymnasium\\wrappers\\rendering.py:283: UserWarning: \u001b[33mWARN: Overwriting existing videos at c:\\Users\\yugan\\OneDrive\\Documents\\python\\RL project\\acrobat-agent folder (try specifying a different `video_folder` for the `RecordVideo` wrapper if this is not desired)\u001b[0m\n",
      "  logger.warn(\n"
     ]
    },
    {
     "ename": "NotImplementedError",
     "evalue": "in user code:\n\n    File \"C:\\Users\\yugan\\AppData\\Local\\Temp\\ipykernel_24904\\3256661627.py\", line 14, in train_step  *\n        target_qnetwork.set_weights(\n    File \"c:\\Users\\yugan\\AppData\\Local\\Programs\\Python\\Python310\\lib\\site-packages\\keras\\src\\layers\\layer.py\", line 693, in get_weights  **\n        return [v.numpy() for v in self.weights]\n    File \"c:\\Users\\yugan\\AppData\\Local\\Programs\\Python\\Python310\\lib\\site-packages\\keras\\src\\layers\\layer.py\", line 693, in <listcomp>\n        return [v.numpy() for v in self.weights]\n    File \"c:\\Users\\yugan\\AppData\\Local\\Programs\\Python\\Python310\\lib\\site-packages\\keras\\src\\backend\\tensorflow\\core.py\", line 71, in numpy\n        return self.value.numpy()\n\n    NotImplementedError: numpy() is only available when eager execution is enabled.\n",
     "output_type": "error",
     "traceback": [
      "\u001b[1;31m---------------------------------------------------------------------------\u001b[0m",
      "\u001b[1;31mNotImplementedError\u001b[0m                       Traceback (most recent call last)",
      "Cell \u001b[1;32mIn[50], line 34\u001b[0m\n\u001b[0;32m     32\u001b[0m \u001b[38;5;28;01mif\u001b[39;00m check_update_conditions(t,\u001b[38;5;241m5\u001b[39m, memory):\n\u001b[0;32m     33\u001b[0m     experiences\u001b[38;5;241m=\u001b[39mget_experiences(memory)\n\u001b[1;32m---> 34\u001b[0m     \u001b[43mtrain_step\u001b[49m\u001b[43m(\u001b[49m\u001b[43mexperiences\u001b[49m\u001b[43m,\u001b[49m\u001b[43mgamma\u001b[49m\u001b[43m)\u001b[49m\n\u001b[0;32m     36\u001b[0m state\u001b[38;5;241m=\u001b[39mnext_state\u001b[38;5;241m.\u001b[39mcopy()\n\u001b[0;32m     38\u001b[0m \u001b[38;5;28;01mif\u001b[39;00m done \u001b[38;5;129;01mor\u001b[39;00m truncated:\n",
      "File \u001b[1;32mc:\\Users\\yugan\\AppData\\Local\\Programs\\Python\\Python310\\lib\\site-packages\\tensorflow\\python\\util\\traceback_utils.py:153\u001b[0m, in \u001b[0;36mfilter_traceback.<locals>.error_handler\u001b[1;34m(*args, **kwargs)\u001b[0m\n\u001b[0;32m    151\u001b[0m \u001b[38;5;28;01mexcept\u001b[39;00m \u001b[38;5;167;01mException\u001b[39;00m \u001b[38;5;28;01mas\u001b[39;00m e:\n\u001b[0;32m    152\u001b[0m   filtered_tb \u001b[38;5;241m=\u001b[39m _process_traceback_frames(e\u001b[38;5;241m.\u001b[39m__traceback__)\n\u001b[1;32m--> 153\u001b[0m   \u001b[38;5;28;01mraise\u001b[39;00m e\u001b[38;5;241m.\u001b[39mwith_traceback(filtered_tb) \u001b[38;5;28;01mfrom\u001b[39;00m\u001b[38;5;250m \u001b[39m\u001b[38;5;28;01mNone\u001b[39;00m\n\u001b[0;32m    154\u001b[0m \u001b[38;5;28;01mfinally\u001b[39;00m:\n\u001b[0;32m    155\u001b[0m   \u001b[38;5;28;01mdel\u001b[39;00m filtered_tb\n",
      "File \u001b[1;32m~\\AppData\\Local\\Temp\\__autograph_generated_filep3o3s45x.py:12\u001b[0m, in \u001b[0;36mouter_factory.<locals>.inner_factory.<locals>.tf__train_step\u001b[1;34m(experiences, gamma)\u001b[0m\n\u001b[0;32m     10\u001b[0m model_gradients \u001b[38;5;241m=\u001b[39m ag__\u001b[38;5;241m.\u001b[39mconverted_call(ag__\u001b[38;5;241m.\u001b[39mld(tape)\u001b[38;5;241m.\u001b[39mgradient, (ag__\u001b[38;5;241m.\u001b[39mld(loss), ag__\u001b[38;5;241m.\u001b[39mld(qnetwork)\u001b[38;5;241m.\u001b[39mtrainable_variables), \u001b[38;5;28;01mNone\u001b[39;00m, fscope)\n\u001b[0;32m     11\u001b[0m ag__\u001b[38;5;241m.\u001b[39mconverted_call(ag__\u001b[38;5;241m.\u001b[39mld(optimizer)\u001b[38;5;241m.\u001b[39mapply_gradients, (ag__\u001b[38;5;241m.\u001b[39mconverted_call(ag__\u001b[38;5;241m.\u001b[39mld(\u001b[38;5;28mzip\u001b[39m), (ag__\u001b[38;5;241m.\u001b[39mld(model_gradients), ag__\u001b[38;5;241m.\u001b[39mld(qnetwork)\u001b[38;5;241m.\u001b[39mtrainable_variables), \u001b[38;5;28;01mNone\u001b[39;00m, fscope),), \u001b[38;5;28;01mNone\u001b[39;00m, fscope)\n\u001b[1;32m---> 12\u001b[0m ag__\u001b[38;5;241m.\u001b[39mconverted_call(ag__\u001b[38;5;241m.\u001b[39mld(target_qnetwork)\u001b[38;5;241m.\u001b[39mset_weights, (ag__\u001b[38;5;241m.\u001b[39mconverted_call(ag__\u001b[38;5;241m.\u001b[39mld(tf)\u001b[38;5;241m.\u001b[39mkeras\u001b[38;5;241m.\u001b[39mutils\u001b[38;5;241m.\u001b[39mserialize_keras_object, (\u001b[43mag__\u001b[49m\u001b[38;5;241;43m.\u001b[39;49m\u001b[43mconverted_call\u001b[49m\u001b[43m(\u001b[49m\u001b[43mag__\u001b[49m\u001b[38;5;241;43m.\u001b[39;49m\u001b[43mld\u001b[49m\u001b[43m(\u001b[49m\u001b[43mqnetwork\u001b[49m\u001b[43m)\u001b[49m\u001b[38;5;241;43m.\u001b[39;49m\u001b[43mget_weights\u001b[49m\u001b[43m,\u001b[49m\u001b[43m \u001b[49m\u001b[43m(\u001b[49m\u001b[43m)\u001b[49m\u001b[43m,\u001b[49m\u001b[43m \u001b[49m\u001b[38;5;28;43;01mNone\u001b[39;49;00m\u001b[43m,\u001b[49m\u001b[43m \u001b[49m\u001b[43mfscope\u001b[49m\u001b[43m)\u001b[49m,), \u001b[38;5;28;01mNone\u001b[39;00m, fscope),), \u001b[38;5;28;01mNone\u001b[39;00m, fscope)\n\u001b[0;32m     14\u001b[0m \u001b[38;5;28;01mdef\u001b[39;00m\u001b[38;5;250m \u001b[39m\u001b[38;5;21mget_state\u001b[39m():\n\u001b[0;32m     15\u001b[0m     \u001b[38;5;28;01mreturn\u001b[39;00m ()\n",
      "File \u001b[1;32mc:\\Users\\yugan\\AppData\\Local\\Programs\\Python\\Python310\\lib\\site-packages\\keras\\src\\layers\\layer.py:693\u001b[0m, in \u001b[0;36mLayer.get_weights\u001b[1;34m(self)\u001b[0m\n\u001b[0;32m    691\u001b[0m \u001b[38;5;28;01mdef\u001b[39;00m\u001b[38;5;250m \u001b[39m\u001b[38;5;21mget_weights\u001b[39m(\u001b[38;5;28mself\u001b[39m):\n\u001b[0;32m    692\u001b[0m \u001b[38;5;250m    \u001b[39m\u001b[38;5;124;03m\"\"\"Return the values of `layer.weights` as a list of NumPy arrays.\"\"\"\u001b[39;00m\n\u001b[1;32m--> 693\u001b[0m     \u001b[38;5;28;01mreturn\u001b[39;00m [v\u001b[38;5;241m.\u001b[39mnumpy() \u001b[38;5;28;01mfor\u001b[39;00m v \u001b[38;5;129;01min\u001b[39;00m \u001b[38;5;28mself\u001b[39m\u001b[38;5;241m.\u001b[39mweights]\n",
      "File \u001b[1;32mc:\\Users\\yugan\\AppData\\Local\\Programs\\Python\\Python310\\lib\\site-packages\\keras\\src\\layers\\layer.py:693\u001b[0m, in \u001b[0;36m<listcomp>\u001b[1;34m(.0)\u001b[0m\n\u001b[0;32m    691\u001b[0m \u001b[38;5;28;01mdef\u001b[39;00m\u001b[38;5;250m \u001b[39m\u001b[38;5;21mget_weights\u001b[39m(\u001b[38;5;28mself\u001b[39m):\n\u001b[0;32m    692\u001b[0m \u001b[38;5;250m    \u001b[39m\u001b[38;5;124;03m\"\"\"Return the values of `layer.weights` as a list of NumPy arrays.\"\"\"\u001b[39;00m\n\u001b[1;32m--> 693\u001b[0m     \u001b[38;5;28;01mreturn\u001b[39;00m [\u001b[43mv\u001b[49m\u001b[38;5;241;43m.\u001b[39;49m\u001b[43mnumpy\u001b[49m\u001b[43m(\u001b[49m\u001b[43m)\u001b[49m \u001b[38;5;28;01mfor\u001b[39;00m v \u001b[38;5;129;01min\u001b[39;00m \u001b[38;5;28mself\u001b[39m\u001b[38;5;241m.\u001b[39mweights]\n",
      "File \u001b[1;32mc:\\Users\\yugan\\AppData\\Local\\Programs\\Python\\Python310\\lib\\site-packages\\keras\\src\\backend\\tensorflow\\core.py:71\u001b[0m, in \u001b[0;36mVariable.numpy\u001b[1;34m(self)\u001b[0m\n\u001b[0;32m     70\u001b[0m \u001b[38;5;28;01mdef\u001b[39;00m\u001b[38;5;250m \u001b[39m\u001b[38;5;21mnumpy\u001b[39m(\u001b[38;5;28mself\u001b[39m):  \u001b[38;5;66;03m# noqa: F811\u001b[39;00m\n\u001b[1;32m---> 71\u001b[0m     \u001b[38;5;28;01mreturn\u001b[39;00m \u001b[38;5;28;43mself\u001b[39;49m\u001b[38;5;241;43m.\u001b[39;49m\u001b[43mvalue\u001b[49m\u001b[38;5;241;43m.\u001b[39;49m\u001b[43mnumpy\u001b[49m\u001b[43m(\u001b[49m\u001b[43m)\u001b[49m\n",
      "\u001b[1;31mNotImplementedError\u001b[0m: in user code:\n\n    File \"C:\\Users\\yugan\\AppData\\Local\\Temp\\ipykernel_24904\\3256661627.py\", line 14, in train_step  *\n        target_qnetwork.set_weights(\n    File \"c:\\Users\\yugan\\AppData\\Local\\Programs\\Python\\Python310\\lib\\site-packages\\keras\\src\\layers\\layer.py\", line 693, in get_weights  **\n        return [v.numpy() for v in self.weights]\n    File \"c:\\Users\\yugan\\AppData\\Local\\Programs\\Python\\Python310\\lib\\site-packages\\keras\\src\\layers\\layer.py\", line 693, in <listcomp>\n        return [v.numpy() for v in self.weights]\n    File \"c:\\Users\\yugan\\AppData\\Local\\Programs\\Python\\Python310\\lib\\site-packages\\keras\\src\\backend\\tensorflow\\core.py\", line 71, in numpy\n        return self.value.numpy()\n\n    NotImplementedError: numpy() is only available when eager execution is enabled.\n"
     ]
    }
   ],
   "source": [
    "start=time.time()\n",
    "\n",
    "\n",
    "env = RecordVideo(env, video_folder=\"acrobat-agent\", name_prefix=\"training\",\n",
    "                  episode_trigger=lambda x: x % 200 == 0)\n",
    "env = RecordEpisodeStatistics(env)\n",
    "\n",
    "# Creating a memory buffer\n",
    "memory=deque(maxlen=memory_buffer)\n",
    "num_episodes = 2000\n",
    "max_num_timesteps = 1000\n",
    "\n",
    "total_point_history = []\n",
    "\n",
    "num_p_av = 100\n",
    "\n",
    "target_qnetwork.set_weights(qnetwork.get_weights())\n",
    "\n",
    "for i in range(num_episodes):\n",
    "    state,_=env.reset()\n",
    "    total_points=0\n",
    "    for t in range(max_num_timesteps):\n",
    "        state=np.array(state)\n",
    "        state=np.expand_dims(state, axis=0)\n",
    "        qvalues=qnetwork(state)\n",
    "        action=get_action(qvalues,epsilon)\n",
    "        next_state,reward,done,truncated,info=env.step(action)\n",
    "        memory.append(experience(state,action,reward,next_state,done))\n",
    "        state=next_state\n",
    "        total_points+=reward\n",
    "        \n",
    "        if check_update_conditions(t,5, memory):\n",
    "            experiences=get_experiences(memory)\n",
    "            train_step(experiences,gamma)\n",
    "        \n",
    "        state=next_state.copy()\n",
    "\n",
    "        if done or truncated:\n",
    "            break\n",
    "    total_point_history.append(total_points)\n",
    "    av_latest_points=np.mean(total_point_history[-num_p_av:])\n",
    "    if i % 100 == 0:\n",
    "        print(f\"Episode {i} : av_latest_points {av_latest_points}\")\n",
    "    \n",
    "    if av_latest_points >= 195.0:\n",
    "        qnetwork.save(\"acrobat model.keras\")\n",
    "        print(f\"Target Reached! on episode {i} and model saved\")\n",
    "        break\n",
    "    \n",
    "    epsilon=get_new_eps(epsilon)\n",
    "    logging.info(f\"episode-{num_episodes}\", info[\"episode\"])\n",
    "env.close()\n",
    "total_time=time.time()-start\n",
    "print(f\"Total Training Time: {total_time/60} minutes\")\n",
    "\n",
    "\n",
    "\n",
    "    \n",
    "\n"
   ]
  },
  {
   "cell_type": "code",
   "execution_count": null,
   "metadata": {},
   "outputs": [],
   "source": [
    "#plotting the training progress\n",
    "plt.figure(figsize=(10,5))\n",
    "plt.plot(total_point_history)\n",
    "plt.xlabel(\"Episode\")\n",
    "plt.ylabel(\"Total Points\")\n",
    "plt.title(\"Training Progress\")\n",
    "plt.show()\n"
   ]
  }
 ],
 "metadata": {
  "kernelspec": {
   "display_name": "Python 3",
   "language": "python",
   "name": "python3"
  },
  "language_info": {
   "codemirror_mode": {
    "name": "ipython",
    "version": 3
   },
   "file_extension": ".py",
   "mimetype": "text/x-python",
   "name": "python",
   "nbconvert_exporter": "python",
   "pygments_lexer": "ipython3",
   "version": "3.10.0"
  }
 },
 "nbformat": 4,
 "nbformat_minor": 2
}
